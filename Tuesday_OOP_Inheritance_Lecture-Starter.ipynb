{
 "cells": [
  {
   "cell_type": "markdown",
   "metadata": {},
   "source": [
    "# Object-Oriented-Programming (OOP)"
   ]
  },
  {
   "cell_type": "markdown",
   "metadata": {},
   "source": [
    "## Tasks Today:\n",
    "\n",
    "   \n",
    "1) <b>Dunder Methods</b> <br>\n",
    " &nbsp;&nbsp;&nbsp;&nbsp; a) The \\__str\\__() Method <br>\n",
    " &nbsp;&nbsp;&nbsp;&nbsp; b) The \\__repr\\__() Method <br>\n",
    " &nbsp;&nbsp;&nbsp;&nbsp; c) Other Magic Methods <br>\n",
    " &nbsp;&nbsp;&nbsp;&nbsp; d) In-Class Exercise #1 - Create a class Animal that displays the species and animal name when printed <br>  \n",
    "2) <b>Inheritance</b> <br>\n",
    " &nbsp;&nbsp;&nbsp;&nbsp; a) Syntax for Inheriting from a Parent Class <br>\n",
    " &nbsp;&nbsp;&nbsp;&nbsp; b) The \\__init\\__() Method for a Child Class (super()) <br>\n",
    " &nbsp;&nbsp;&nbsp;&nbsp; c) Defining Attributes and Methods for the Child Class <br>\n",
    " &nbsp;&nbsp;&nbsp;&nbsp; d) Method Overriding <br>\n",
    " &nbsp;&nbsp;&nbsp;&nbsp; e) In-Class Exercise #2 - Create a class 'Ford' that inherits from 'Car' class and initialize it as a Blue Ford Explorer with 4 wheels using the super() method <br>\n",
    "3) <b>Modules</b> <br>\n",
    " &nbsp;&nbsp;&nbsp;&nbsp; a) Importing Modules<br>\n",
    " &nbsp;&nbsp;&nbsp;&nbsp; b) Importing from modules <br>\n",
    " &nbsp;&nbsp;&nbsp;&nbsp; c) Aliasing <br>\n",
    " &nbsp;&nbsp;&nbsp;&nbsp; d) Creating Modules <br>\n"
   ]
  },
  {
   "cell_type": "markdown",
   "metadata": {},
   "source": [
    "### Warm Up"
   ]
  },
  {
   "cell_type": "markdown",
   "metadata": {},
   "source": [
    "Create a class for a Book that has instance attributes for `title`, `author`, `num_of_pages`, and `price`. Each book instance should also have a `current_page` attribute that starts at 0. Add a method called `read` that takes in number of pages. The method should update the what the current page is. If the `current_page` goes over the `num_of_pages`, print that the book is finished and reset the `current_page` to 0"
   ]
  },
  {
   "cell_type": "code",
   "execution_count": 11,
   "metadata": {},
   "outputs": [],
   "source": [
    "class Book():\n",
    "    def __init__(self, title, author, num_pages, price, current_page=0):\n",
    "        self.title=title\n",
    "        self.author=author\n",
    "        self.num_pages=num_pages\n",
    "        self.price=price\n",
    "        self.current_page=current_page\n",
    "    def read(self, pages):\n",
    "        self.current_page+=pages\n",
    "        if self.current_page>self.num_pages:\n",
    "            self.current_page=0\n",
    "            print(f\"Congratulations on finishing {self.title} by {self.author}!\")\n",
    "        else:    \n",
    "            print(f\"You are on page {self.current_page} of {self.num_pages}.\")\n",
    "            \n",
    "    "
   ]
  },
  {
   "cell_type": "code",
   "execution_count": 12,
   "metadata": {},
   "outputs": [
    {
     "name": "stdout",
     "output_type": "stream",
     "text": [
      "You are on page 45 of 288.\n",
      "You are on page 104 of 288.\n",
      "You are on page 146 of 288.\n",
      "You are on page 230 of 288.\n",
      "Congratulations on finishing The Midnight Library by Matt Haig!\n"
     ]
    }
   ],
   "source": [
    "book = Book(\"The Midnight Library\", \"Matt Haig\", 288, 26.00)\n",
    "book.read(45)\n",
    "book.read(59)\n",
    "book.read(42)\n",
    "book.read(84)\n",
    "book.read(62)"
   ]
  },
  {
   "cell_type": "code",
   "execution_count": 10,
   "metadata": {},
   "outputs": [
    {
     "name": "stdout",
     "output_type": "stream",
     "text": [
      "Matt Haig\n"
     ]
    }
   ],
   "source": [
    "print(book.author)"
   ]
  },
  {
   "cell_type": "markdown",
   "metadata": {},
   "source": [
    "## Dunder Methods"
   ]
  },
  {
   "cell_type": "markdown",
   "metadata": {},
   "source": [
    "#### \\__str\\__()"
   ]
  },
  {
   "cell_type": "code",
   "execution_count": 18,
   "metadata": {},
   "outputs": [
    {
     "name": "stdout",
     "output_type": "stream",
     "text": [
      "Red Toyota Camry\n",
      "Blue Honda Civic\n"
     ]
    }
   ],
   "source": [
    "class Car:\n",
    "    def __init__(self, color, make, model):\n",
    "        self.color=color\n",
    "        self.make=make\n",
    "        self.model=model\n",
    "        \n",
    "    def __str__(self):\n",
    "        return f'{self.color} {self.make} {self.model}'.title()\n",
    "        \n",
    "car1=Car('red', 'Toyota', 'Camry')\n",
    "car2 = Car('blue', 'Honda', 'Civic')\n",
    "\n",
    "\n",
    "print(car1)\n",
    "print(car2)"
   ]
  },
  {
   "cell_type": "markdown",
   "metadata": {},
   "source": [
    "#### \\__repr\\__()"
   ]
  },
  {
   "cell_type": "code",
   "execution_count": 47,
   "metadata": {
    "scrolled": true
   },
   "outputs": [],
   "source": [
    "class Car:\n",
    "    \n",
    "    def __init__(self, color, make, model):\n",
    "        self.color=color\n",
    "        self.make=make\n",
    "        self.model=model\n",
    "        \n",
    "        \n",
    "    def __str__(self):\n",
    "        return f'{self.color} {self.make} {self.model}'.title()\n",
    "\n",
    "    def __repr__(self):\n",
    "        return f\"<Car|{self.make} {self.model}>\"\n",
    "    \n",
    "    \n",
    "car1=Car('red', 'Toyota', 'Camry')\n",
    "car2 = Car('blue', 'Honda', 'Civic')"
   ]
  },
  {
   "cell_type": "code",
   "execution_count": 48,
   "metadata": {},
   "outputs": [
    {
     "name": "stdout",
     "output_type": "stream",
     "text": [
      "Blue Honda Civic\n"
     ]
    },
    {
     "data": {
      "text/plain": [
       "<Car|Toyota Camry>"
      ]
     },
     "execution_count": 48,
     "metadata": {},
     "output_type": "execute_result"
    }
   ],
   "source": [
    "print(car2)\n",
    "car1"
   ]
  },
  {
   "cell_type": "code",
   "execution_count": 41,
   "metadata": {},
   "outputs": [
    {
     "ename": "SyntaxError",
     "evalue": "unterminated string literal (detected at line 12) (696152574.py, line 12)",
     "output_type": "error",
     "traceback": [
      "\u001b[1;36m  Cell \u001b[1;32mIn[41], line 12\u001b[1;36m\u001b[0m\n\u001b[1;33m    return f\"<Post {self.id}|{self.title}\u001b[0m\n\u001b[1;37m           ^\u001b[0m\n\u001b[1;31mSyntaxError\u001b[0m\u001b[1;31m:\u001b[0m unterminated string literal (detected at line 12)\n"
     ]
    }
   ],
   "source": [
    "class Blogpost:\n",
    "    id_counter=1\n",
    "    def __init__(self, title, body, author):\n",
    "        self.title=title\n",
    "        self.author=author\n",
    "        self.body=body\n",
    "        \n",
    "    def __str__(self):\n",
    "        pass\n",
    "    \n",
    "    def __repr__(self):\n",
    "        return f\"<Post {self.id}|{self.title}"
   ]
  },
  {
   "cell_type": "code",
   "execution_count": 42,
   "metadata": {},
   "outputs": [],
   "source": [
    "#If the repr method is defined but not str, then repr is used for string conversion"
   ]
  },
  {
   "cell_type": "markdown",
   "metadata": {},
   "source": [
    "#### \\__lt\\__(), \\__lte\\__(), \\__eq\\__(), etc"
   ]
  },
  {
   "cell_type": "code",
   "execution_count": 55,
   "metadata": {},
   "outputs": [
    {
     "ename": "SyntaxError",
     "evalue": "unterminated string literal (detected at line 10) (3546084641.py, line 10)",
     "output_type": "error",
     "traceback": [
      "\u001b[1;36m  Cell \u001b[1;32mIn[55], line 10\u001b[1;36m\u001b[0m\n\u001b[1;33m    return f\"<Product|{self.name}\u001b[0m\n\u001b[1;37m           ^\u001b[0m\n\u001b[1;31mSyntaxError\u001b[0m\u001b[1;31m:\u001b[0m unterminated string literal (detected at line 10)\n"
     ]
    }
   ],
   "source": [
    "class Product:\n",
    "    def __inti__(self, name, price):\n",
    "        self.name=name\n",
    "        self.price = price\n",
    "        \n",
    "    def __str__(self):\n",
    "        return f\"Product|{self.name}, ${self.price}.\"\n",
    "        \n",
    "    def __repre__(self):\n",
    "        return f\"<Product|{self.name}\n",
    "        \n",
    "    def __it__(self, other_prod):\n",
    "        if not isinstance(other_prod, Product):\n",
    "            raise TypeError(f\"Can only compare Product to another Product(not {type(other_prod}).\")\n",
    "    \n",
    "p1 = Product('Apple', 1.49)    "
   ]
  },
  {
   "cell_type": "code",
   "execution_count": 51,
   "metadata": {},
   "outputs": [
    {
     "ename": "NameError",
     "evalue": "name 'p1' is not defined",
     "output_type": "error",
     "traceback": [
      "\u001b[1;31m---------------------------------------------------------------------------\u001b[0m",
      "\u001b[1;31mNameError\u001b[0m                                 Traceback (most recent call last)",
      "Cell \u001b[1;32mIn[51], line 1\u001b[0m\n\u001b[1;32m----> 1\u001b[0m p1\u001b[38;5;241m>\u001b[39m\u001b[38;5;241m10\u001b[39m\n",
      "\u001b[1;31mNameError\u001b[0m: name 'p1' is not defined"
     ]
    }
   ],
   "source": [
    "p1>10"
   ]
  },
  {
   "cell_type": "code",
   "execution_count": null,
   "metadata": {},
   "outputs": [],
   "source": []
  },
  {
   "cell_type": "code",
   "execution_count": null,
   "metadata": {},
   "outputs": [],
   "source": []
  },
  {
   "cell_type": "markdown",
   "metadata": {},
   "source": [
    "##### \\_\\_add\\_\\_, \\_\\_contains\\_\\_"
   ]
  },
  {
   "cell_type": "code",
   "execution_count": 56,
   "metadata": {},
   "outputs": [],
   "source": [
    "\n",
    "\n",
    "class Measurement:\n",
    "    def __init__(self, feet, inches):\n",
    "        while inches >= 12:\n",
    "            feet += 1\n",
    "            inches -= 12\n",
    "        self.feet = feet\n",
    "        self.inches = inches\n",
    "        \n",
    "    def __str__(self):\n",
    "        return f\"{self.feet} Feet {self.inches} Inches\"\n",
    "    \n",
    "    def __repr__(self):\n",
    "        return f\"<Measurement|{self.feet}'{self.inches}\\\">\"\n",
    "    \n",
    "    def __add__(self, other_measurement):\n",
    "        if not isinstance(other_measurement, Measurement):\n",
    "            raise TypeError(f\"+ can only be used with other instances of Measurement\")\n",
    "        new_feet = self.feet + other_measurement.feet\n",
    "        new_inches = self.inches + other_measurement.inches\n",
    "        while new_inches >= 12:\n",
    "            new_feet += 1\n",
    "            new_inches -= 12\n",
    "        return Measurement(new_feet, new_inches)\n",
    "    \n",
    "    def __sub__(self, other_measurement):\n",
    "        if not isinstance(other_measurement, Measurement):\n",
    "            raise TypeError(f\"- can only be used with other instances of Measurement\")\n",
    "        new_feet = self.feet - other_measurement.feet\n",
    "        new_inches = self.inches - other_measurement.inches\n",
    "        while new_inches <= 0:\n",
    "            new_feet -= 1\n",
    "            new_inches += 12\n",
    "        return Measurement(new_feet, new_inches)\n",
    "    \n",
    "    \n",
    "    \n",
    "m1 = Measurement(10, 3)\n",
    "m2 = Measurement(7, 8)\n",
    "m3 = Measurement(9, 9)\n",
    "m4 = Measurement(3, 29)\n",
    "\n"
   ]
  },
  {
   "cell_type": "code",
   "execution_count": null,
   "metadata": {},
   "outputs": [],
   "source": []
  },
  {
   "cell_type": "code",
   "execution_count": null,
   "metadata": {},
   "outputs": [],
   "source": [
    "class ShoppingCart:\n",
    "    def __init__(self):\n",
    "        self.items = []\n",
    "        \n",
    "    def add_to_cart(self, item):\n",
    "        self.items.append(item)\n",
    "        print(f\"{item} has been added to your cart\")\n",
    "        \n",
    "    def __contains__(self, item_name):\n",
    "        for item in self.items:\n",
    "            if item.name == item_name:\n",
    "                return True\n",
    "        return False\n",
    "        \n",
    "        \n",
    "class Item:\n",
    "    def __init__(self, name, price):\n",
    "        self.name = name\n",
    "        self.price = price\n",
    "        \n",
    "    def __str__(self):\n",
    "        return self.name.title()\n",
    "    \n",
    "    def __repr__(self):\n",
    "        return f\"<Item|{self.name}>\"\n",
    "    \n",
    "    \n",
    "    \n",
    "my_cart = ShoppingCart()\n",
    "\n",
    "item1 = Item('Apple', 1.40)\n",
    "item2 = Item('Banana', .89)\n",
    "item3 = Item('Watermelon', 2.99)\n",
    "\n",
    "my_cart.add_to_cart(item1)\n",
    "my_cart.add_to_cart(item2)\n",
    "my_cart.add_to_cart(item3)\n",
    "\n",
    "print(my_cart.items)"
   ]
  },
  {
   "cell_type": "markdown",
   "metadata": {},
   "source": [
    "#### In-class Exercise 1"
   ]
  },
  {
   "cell_type": "code",
   "execution_count": 58,
   "metadata": {},
   "outputs": [
    {
     "name": "stdout",
     "output_type": "stream",
     "text": [
      "Leo the Lion\n",
      "Buddy the Dog\n"
     ]
    }
   ],
   "source": [
    "# Create a class Animal that displays the name and species when printed\n",
    "class Animal:\n",
    "    def __init__(self, name, species):\n",
    "        self.name=name\n",
    "        self.species=species\n",
    "        \n",
    "    def __str__(self):\n",
    "        return f\"{self.name.title()} the {self.species.title()}\"\n",
    "    \n",
    "\n",
    "leo = Animal('Leo', 'lion')\n",
    "\n",
    "print(leo) # Leo the Lion\n",
    "\n",
    "\n",
    "buddy = Animal('Buddy', 'dog')\n",
    "print(buddy) # Buddy the Dog"
   ]
  },
  {
   "cell_type": "code",
   "execution_count": 59,
   "metadata": {},
   "outputs": [
    {
     "name": "stdout",
     "output_type": "stream",
     "text": [
      "Help on class Animal in module __main__:\n",
      "\n",
      "class Animal(builtins.object)\n",
      " |  Animal(name, species)\n",
      " |  \n",
      " |  Methods defined here:\n",
      " |  \n",
      " |  __init__(self, name, species)\n",
      " |      Initialize self.  See help(type(self)) for accurate signature.\n",
      " |  \n",
      " |  __str__(self)\n",
      " |      Return str(self).\n",
      " |  \n",
      " |  ----------------------------------------------------------------------\n",
      " |  Data descriptors defined here:\n",
      " |  \n",
      " |  __dict__\n",
      " |      dictionary for instance variables (if defined)\n",
      " |  \n",
      " |  __weakref__\n",
      " |      list of weak references to the object (if defined)\n",
      "\n"
     ]
    }
   ],
   "source": [
    "help(Animal)"
   ]
  },
  {
   "cell_type": "markdown",
   "metadata": {},
   "source": [
    "## Inheritance <br>\n",
    "<p>You can create a child-parent relationship between two classes by using inheritance. What this allows you to do is have overriding methods, but also inherit traits from the parent class. Think of it as an actual parent and child, the child will inherit the parent's genes, as will the classes in OOP</p>"
   ]
  },
  {
   "cell_type": "markdown",
   "metadata": {},
   "source": [
    "##### Syntax for Inheriting from a Parent Class"
   ]
  },
  {
   "cell_type": "code",
   "execution_count": 63,
   "metadata": {},
   "outputs": [],
   "source": [
    "# Syntax: class Child(Parent):\n",
    "class Rectangle:\n",
    "    sides = 4\n",
    "    def __init__(self, length, width):\n",
    "        self.length = length\n",
    "        self.width=width\n",
    "    def area(self):\n",
    "        return self.length*self.width\n",
    "\n",
    "class Square(Rectangle):\n",
    "    pass"
   ]
  },
  {
   "cell_type": "code",
   "execution_count": 65,
   "metadata": {},
   "outputs": [
    {
     "name": "stdout",
     "output_type": "stream",
     "text": [
      "Help on class Square in module __main__:\n",
      "\n",
      "class Square(Rectangle)\n",
      " |  Square(length, width)\n",
      " |  \n",
      " |  Method resolution order:\n",
      " |      Square\n",
      " |      Rectangle\n",
      " |      builtins.object\n",
      " |  \n",
      " |  Methods inherited from Rectangle:\n",
      " |  \n",
      " |  __init__(self, length, width)\n",
      " |      Initialize self.  See help(type(self)) for accurate signature.\n",
      " |  \n",
      " |  area(self)\n",
      " |  \n",
      " |  ----------------------------------------------------------------------\n",
      " |  Data descriptors inherited from Rectangle:\n",
      " |  \n",
      " |  __dict__\n",
      " |      dictionary for instance variables (if defined)\n",
      " |  \n",
      " |  __weakref__\n",
      " |      list of weak references to the object (if defined)\n",
      " |  \n",
      " |  ----------------------------------------------------------------------\n",
      " |  Data and other attributes inherited from Rectangle:\n",
      " |  \n",
      " |  sides = 4\n",
      "\n"
     ]
    }
   ],
   "source": [
    "help(Square)"
   ]
  },
  {
   "cell_type": "markdown",
   "metadata": {},
   "source": [
    "##### The \\__init\\__() Method for a Child Class - super()"
   ]
  },
  {
   "cell_type": "code",
   "execution_count": 66,
   "metadata": {
    "scrolled": true
   },
   "outputs": [],
   "source": [
    "class Rectangle:\n",
    "    sides = 4\n",
    "    def __init__(self, length, width):\n",
    "        self.length = length\n",
    "        self.width=width\n",
    "    def area(self):\n",
    "        return self.length*self.width\n",
    "\n",
    "    def perimeter(self):\n",
    "        return 2*self.length+2*self.width\n",
    "    \n",
    "    \n",
    "class Square(Rectangle):\n",
    "    def __init__(self, side):\n",
    "        super().__init__(side,side)"
   ]
  },
  {
   "cell_type": "code",
   "execution_count": 67,
   "metadata": {},
   "outputs": [],
   "source": [
    "class Triangle(Rectangle):\n",
    "    sides = 3\n",
    "    def __init__(self, base, height):\n",
    "        super().__init__(base, height)\n",
    "        \n",
    "    def perimeter(self):\n",
    "        return self.length*3\n",
    "    \n",
    "    def area(self):\n",
    "        rectangle_area=super().area()\n",
    "        return rectangle_area/2"
   ]
  },
  {
   "cell_type": "code",
   "execution_count": null,
   "metadata": {
    "scrolled": true
   },
   "outputs": [],
   "source": []
  },
  {
   "cell_type": "code",
   "execution_count": null,
   "metadata": {},
   "outputs": [],
   "source": [
    "class Animal:\n",
    "    def __init__(self, name, species):\n",
    "        self.name = name\n",
    "        self.species = species\n",
    "        self.x_position = 0\n",
    "        self.y_position = 0\n",
    "        \n",
    "    def __str__(self):\n",
    "        return f\"{self.name} the {self.species}\"\n",
    "    \n",
    "    def eat(self):\n",
    "        print(f\"{self} is eating\")\n",
    "        \n",
    "    def sleep(self):\n",
    "        print(f\"{self} is sleepling\")\n",
    "        \n",
    "    def play(self):\n",
    "        print(f\"{self} is playing\")\n",
    "        \n",
    "    def move(self, x_move, y_move):\n",
    "        self.x_position += x_move\n",
    "        self.y_position += y_move\n",
    "        print(f\"{self} is now at {self.x_position}, {self.y_position}\")\n",
    "        \n",
    "        \n",
    "        \n",
    "class Fish(Animal):\n",
    "    def __init__(self, name):\n",
    "        super().__init__(name, 'Fish')\n",
    "        \n",
    "    def swim(self):\n",
    "        print(f\"{self} is swimming\")\n",
    "        \n",
    "        \n",
    "class Bird(Animal):\n",
    "    def __init__(self, name):\n",
    "        super().__init__(name, 'Bird')\n",
    "        \n",
    "    def fly(self):\n",
    "        print(f\"{self} is flying\")\n",
    "        \n",
    "class Lion(Animal):\n",
    "    def __init__(self, name):\n",
    "        super().__init__(name, 'Lion')\n",
    "        \n",
    "    def hunt(self):\n",
    "        print(f\"{self} is hunting\")\n",
    "        \n",
    "        \n",
    "        \n",
    "nemo = Fish('Nemo')\n",
    "zazu = Bird('Zazu')\n",
    "simba = Lion('Simba')\n",
    "\n",
    "animals = [nemo, zazu, simba]"
   ]
  },
  {
   "cell_type": "code",
   "execution_count": null,
   "metadata": {},
   "outputs": [],
   "source": []
  },
  {
   "cell_type": "markdown",
   "metadata": {},
   "source": [
    "#### In-class Exercise 2"
   ]
  },
  {
   "cell_type": "markdown",
   "metadata": {},
   "source": [
    "Create a Car class that has a drive and fill up method, and then create a Ford class that inherits from the car class."
   ]
  },
  {
   "cell_type": "code",
   "execution_count": 75,
   "metadata": {},
   "outputs": [
    {
     "name": "stdout",
     "output_type": "stream",
     "text": [
      "Ford\n",
      "My blue Ford Focus is driving.\n",
      "Filling up my blue Ford Focus.\n",
      "My red Toyota Camry is driving.\n",
      "Filling up my red Toyota Camry.\n"
     ]
    }
   ],
   "source": [
    "class Car:\n",
    "    def __init__(self, color, make, model):\n",
    "        self.color=color\n",
    "        self.make=make.title()\n",
    "        self.model=model.title()\n",
    "        \n",
    "    def fill_up(self):\n",
    "        print(f\"Filling up my {self.color} {self.make} {self.model}.\")\n",
    "\n",
    "    def drive(self):\n",
    "        print(f\"My {self.color} {self.make} {self.model} is driving.\")\n",
    "\n",
    "    \n",
    "class Ford(Car):\n",
    "    def __init__(self, color, model):\n",
    "        super().__init__(color, 'Ford', model)\n",
    "    \n",
    "\n",
    "\n",
    "\n",
    "my_car = Ford('blue', 'Focus')\n",
    "\n",
    "print(my_car.make) # 'Ford'\n",
    "\n",
    "my_car.drive() # 'blue Ford Focus is driving'\n",
    "\n",
    "my_car.fill_up() # 'Filling up blue Ford Focus'\n",
    "\n",
    "my_other_car = Car('red', 'Toyota', 'Camry')\n",
    "\n",
    "my_other_car.drive()\n",
    "my_other_car.fill_up()\n"
   ]
  },
  {
   "cell_type": "markdown",
   "metadata": {},
   "source": [
    "## Modules"
   ]
  },
  {
   "cell_type": "markdown",
   "metadata": {},
   "source": [
    "##### Importing Entire Modules"
   ]
  },
  {
   "cell_type": "code",
   "execution_count": 77,
   "metadata": {},
   "outputs": [
    {
     "name": "stdout",
     "output_type": "stream",
     "text": [
      "<module 'math' (built-in)>\n"
     ]
    }
   ],
   "source": [
    "# import name_of_module\n",
    "\n",
    "import math\n",
    "\n",
    "print(math)"
   ]
  },
  {
   "cell_type": "code",
   "execution_count": 81,
   "metadata": {},
   "outputs": [
    {
     "name": "stdout",
     "output_type": "stream",
     "text": [
      "120\n",
      "10.0\n",
      "3.141592653589793\n"
     ]
    }
   ],
   "source": [
    "#Syntax for accessing functions, classes, variables:\n",
    "#madule.variable\n",
    "\n",
    "print(math.factorial(5))\n",
    "print(math.sqrt(100))\n",
    "print(math.pi)"
   ]
  },
  {
   "cell_type": "code",
   "execution_count": 82,
   "metadata": {},
   "outputs": [
    {
     "data": {
      "text/plain": [
       "62.83185307179586"
      ]
     },
     "execution_count": 82,
     "metadata": {},
     "output_type": "execute_result"
    }
   ],
   "source": [
    "def get_circumference(radius):\n",
    "    return 2*math.pi*radius\n",
    "\n",
    "get_circumference(10)"
   ]
  },
  {
   "cell_type": "markdown",
   "metadata": {},
   "source": [
    "##### Importing Methods Only"
   ]
  },
  {
   "cell_type": "code",
   "execution_count": 84,
   "metadata": {},
   "outputs": [
    {
     "name": "stdout",
     "output_type": "stream",
     "text": [
      "<function mean at 0x000001C0DD472F20>\n",
      "<function mode at 0x000001C0DD4731A0>\n"
     ]
    }
   ],
   "source": [
    "# from module_name import class, function, constant, etc.\n",
    "\n",
    "from statistics import mean, mode\n",
    "print(mean)\n",
    "print(mode)"
   ]
  },
  {
   "cell_type": "code",
   "execution_count": null,
   "metadata": {},
   "outputs": [],
   "source": [
    "#when importing parts of a module we DO NOT have access to module_name or methods from module_name\n"
   ]
  },
  {
   "cell_type": "markdown",
   "metadata": {},
   "source": [
    "##### Using the 'as' Keyword"
   ]
  },
  {
   "cell_type": "code",
   "execution_count": 85,
   "metadata": {},
   "outputs": [
    {
     "name": "stdout",
     "output_type": "stream",
     "text": [
      "<bound method Random.randint of <random.Random object at 0x000001C0D7111AE0>>\n",
      "66\n"
     ]
    }
   ],
   "source": [
    "# import module as new_name\n",
    "# from module import function as f\n",
    "\n",
    "from random import randint as ri\n",
    "print(ri)\n",
    "print(ri(1, 100)) "
   ]
  },
  {
   "cell_type": "code",
   "execution_count": null,
   "metadata": {},
   "outputs": [],
   "source": []
  },
  {
   "cell_type": "code",
   "execution_count": null,
   "metadata": {},
   "outputs": [],
   "source": [
    "# Using VS Code\n"
   ]
  },
  {
   "cell_type": "code",
   "execution_count": null,
   "metadata": {},
   "outputs": [],
   "source": []
  },
  {
   "cell_type": "code",
   "execution_count": null,
   "metadata": {},
   "outputs": [],
   "source": []
  },
  {
   "cell_type": "code",
   "execution_count": null,
   "metadata": {},
   "outputs": [],
   "source": []
  },
  {
   "cell_type": "code",
   "execution_count": null,
   "metadata": {},
   "outputs": [],
   "source": []
  }
 ],
 "metadata": {
  "kernelspec": {
   "display_name": "Python 3 (ipykernel)",
   "language": "python",
   "name": "python3"
  },
  "language_info": {
   "codemirror_mode": {
    "name": "ipython",
    "version": 3
   },
   "file_extension": ".py",
   "mimetype": "text/x-python",
   "name": "python",
   "nbconvert_exporter": "python",
   "pygments_lexer": "ipython3",
   "version": "3.11.4"
  }
 },
 "nbformat": 4,
 "nbformat_minor": 2
}
